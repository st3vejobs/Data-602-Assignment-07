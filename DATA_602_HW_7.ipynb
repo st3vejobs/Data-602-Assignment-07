{
  "nbformat": 4,
  "nbformat_minor": 0,
  "metadata": {
    "colab": {
      "name": "DATA 602 HW 7.ipynb",
      "provenance": [],
      "collapsed_sections": [],
      "authorship_tag": "ABX9TyPGe22teOj12qq/H1uLVbA3",
      "include_colab_link": true
    },
    "kernelspec": {
      "name": "python3",
      "display_name": "Python 3"
    },
    "language_info": {
      "name": "python"
    }
  },
  "cells": [
    {
      "cell_type": "markdown",
      "metadata": {
        "id": "view-in-github",
        "colab_type": "text"
      },
      "source": [
        "<a href=\"https://colab.research.google.com/github/st3vejobs/Data-602-Assignment-07/blob/main/DATA_602_HW_7.ipynb\" target=\"_parent\"><img src=\"https://colab.research.google.com/assets/colab-badge.svg\" alt=\"Open In Colab\"/></a>"
      ]
    },
    {
      "cell_type": "markdown",
      "source": [
        "# DATA 602 Assignment 07"
      ],
      "metadata": {
        "id": "ItaI9gdaHTqK"
      }
    },
    {
      "cell_type": "markdown",
      "source": [
        "I will be using data from [Open Data](https://opendata.cityofnewyork.us/) from the City of New York. In particular, I will be exploring the wide world of squirrels. I am using the 2018 Central Park Squirrel Census for my analysis. I chose to explore this data because I love NYC's Open Data and they have data on some of the most interesting niche subjects, like squirrels. I am very drawn to nature. In the past, I have explored NYC's tree census, and I am excited to dive into the squirrel census.\n",
        "\n",
        "Originally, I did not notice the X and Y columns (Latitude and Longitude), so I used regular expressions to parse the Latitude and Longitude data from the 'Lat/Long' column. I have left the procedure in this document and I will proceed as though the X and Y columns are not present. \n",
        "\n",
        "Removing all of the NA values in the remaining columns after tidying the dataset didn't remove more than 200 rows, and over 2800 rows remain."
      ],
      "metadata": {
        "id": "CosXVV48aZvU"
      }
    },
    {
      "cell_type": "code",
      "execution_count": null,
      "metadata": {
        "id": "eji7nEZnHS3t"
      },
      "outputs": [],
      "source": [
        "import pandas as pd\n",
        "import numpy as np\n",
        "\n",
        "raw = pd.DataFrame(pd.read_csv('https://raw.githubusercontent.com/st3vejobs/Data-602-Assignment-07/main/2018_Central_Park_Squirrel_Census_-_Squirrel_Data.csv'))\n",
        "\n",
        "#print(raw['Date'])\n",
        "\n",
        "def form_date(x):\n",
        "  x['Date'] = pd.to_datetime(x['Date'], unit = 's')\n",
        "  return x\n",
        "\n",
        "raw['Date'] = pd.to_datetime(raw['Date'], format='%m%d%Y') # Code syntax assistance provided by Michael Ippolito\n",
        "#raw['Date'] = pd.to_datetime(raw['Date'].dt.strftime('%Y-%m'))\n",
        "#raw = form_date(raw)\n",
        "\n",
        "#print(raw['Date'])\n",
        "#print(raw.dtypes)\n",
        "raw = raw.rename({'Unique Squirrel ID' : 'ID', 'Approaches' : 'Curious', 'Runs from' : 'Flees'}, axis = 1)\n",
        "#print(raw.dtypes)\n",
        "#print(raw.head())\n",
        "del raw[\"Other Interactions\"] #Included as another method for removing columns\n",
        "raw = raw.drop([\"Highlight Fur Color\", \"Color notes\", \"Above Ground Sighter Measurement\", \"Specific Location\", \"Other Activities\"], axis = 1)\n",
        "\n",
        "##print(raw.shape[0])\n",
        "print(raw.head())\n",
        "\n",
        "rawtrim = pd.DataFrame(raw.dropna())\n",
        "raw = raw.fillna(\"\")\n",
        "#print(rawtrim.shape[0])"
      ]
    },
    {
      "cell_type": "markdown",
      "source": [
        "## String and Column Manipulation"
      ],
      "metadata": {
        "id": "10ePBCcDaH90"
      }
    },
    {
      "cell_type": "markdown",
      "source": [
        "Next, in order to appropriately map the squirrel population, I need to convert the \"Lat/Long\" column to a format that is possible for Python to process. "
      ],
      "metadata": {
        "id": "9Bcl6b1nVSk6"
      }
    },
    {
      "cell_type": "code",
      "source": [
        "#print(raw['Lat/Long'])\n",
        "\n",
        "sq = pd.DataFrame(rawtrim)\n",
        "print(type(sq))\n",
        "print(sq['Lat/Long'])\n",
        "#print(sq.iloc[:,30])\n",
        "#print(sq.dtypes)\n",
        "\n",
        "sq['Lat'] = sq['Lat/Long'].str.extract(r'(\\-[0-9]+.[0-9]+)')\n",
        "#print(sq['Lat'].str.isnumeric())\n",
        "sq['Lat'] = pd.to_numeric(sq['Lat'])\n",
        "#print(sq['Lat'])\n",
        "sq['Lon'] = sq['Lat/Long'].str.extract(r'(\\s[0-9]+.[0-9]+)')\n",
        "sq['Lon'] = pd.to_numeric(sq['Lon'])\n",
        "#print(sq['Lon'])\n",
        "\n",
        "sq['Shift'] = (sq['Shift'].str.lower())\n",
        "#print(sq['Shift'])"
      ],
      "metadata": {
        "colab": {
          "base_uri": "https://localhost:8080/"
        },
        "id": "sE-nLXl_Mk9p",
        "outputId": "f2f22532-7f6e-43cd-da79-5d2709e6d5d6"
      },
      "execution_count": null,
      "outputs": [
        {
          "output_type": "stream",
          "name": "stdout",
          "text": [
            "<class 'pandas.core.frame.DataFrame'>\n",
            "0       POINT (-73.9702676472613 40.7762126854894)\n",
            "1       POINT (-73.9541201789795 40.7931811701082)\n",
            "2       POINT (-73.9582694312289 40.7917367820255)\n",
            "3       POINT (-73.9674285955293 40.7829723919744)\n",
            "4       POINT (-73.9722500196844 40.7742879599026)\n",
            "                           ...                    \n",
            "2819    POINT (-73.9645437409662 40.7811599933331)\n",
            "2820    POINT (-73.9639431360458 40.7908677445466)\n",
            "2821    POINT (-73.9704015859639 40.7825600069973)\n",
            "2822    POINT (-73.9665871993517 40.7836775064883)\n",
            "2823    POINT (-73.9754794191553 40.7696404489025)\n",
            "Name: Lat/Long, Length: 2824, dtype: object\n",
            "0       False\n",
            "1       False\n",
            "2       False\n",
            "3       False\n",
            "4       False\n",
            "        ...  \n",
            "2819    False\n",
            "2820    False\n",
            "2821    False\n",
            "2822    False\n",
            "2823    False\n",
            "Name: Lat, Length: 2824, dtype: bool\n",
            "0      -73.970268\n",
            "1      -73.954120\n",
            "2      -73.958269\n",
            "3      -73.967429\n",
            "4      -73.972250\n",
            "          ...    \n",
            "2819   -73.964544\n",
            "2820   -73.963943\n",
            "2821   -73.970402\n",
            "2822   -73.966587\n",
            "2823   -73.975479\n",
            "Name: Lat, Length: 2824, dtype: float64\n",
            "0       40.776213\n",
            "1       40.793181\n",
            "2       40.791737\n",
            "3       40.782972\n",
            "4       40.774288\n",
            "          ...    \n",
            "2819    40.781160\n",
            "2820    40.790868\n",
            "2821    40.782560\n",
            "2822    40.783678\n",
            "2823    40.769640\n",
            "Name: Lon, Length: 2824, dtype: float64\n",
            "0       am\n",
            "1       am\n",
            "2       am\n",
            "3       pm\n",
            "4       am\n",
            "        ..\n",
            "2819    pm\n",
            "2820    am\n",
            "2821    pm\n",
            "2822    pm\n",
            "2823    pm\n",
            "Name: Shift, Length: 2824, dtype: object\n"
          ]
        }
      ]
    },
    {
      "cell_type": "markdown",
      "source": [
        "### Summary Statistics\n",
        "\n",
        "With enough quantifiable data, I would use the .describe() function to display summary statistics on a number of important columns. Most of the data is boolean, so there is very little to glean from means and quartiles. "
      ],
      "metadata": {
        "id": "VO3COfCee2hb"
      }
    },
    {
      "cell_type": "code",
      "source": [
        "summary = sq.agg(\n",
        "    {\n",
        "        \"Running\": [\"sum\"],\n",
        "        \"Chasing\": [\"sum\"],\n",
        "        \"Climbing\": [\"sum\"],\n",
        "        \"Eating\": [\"sum\"],\n",
        "        \"Foraging\": [\"sum\"],\n",
        "        \"Kuks\": [\"sum\"], \n",
        "        \"Quaas\": [\"sum\"],\n",
        "        \"Moans\": [\"sum\"],\n",
        "        \"Tail flags\": [\"sum\"],\n",
        "        \"Tail twitches\": [\"sum\"],\n",
        "        \"Curious\": [\"sum\"],\n",
        "        \"Indifferent\": [\"sum\"],\n",
        "        \"Flees\": [\"sum\"]\n",
        "    }\n",
        ")\n",
        "print(summary)\n",
        "#print(type(summary))\n",
        "summary_pct = summary/sq[\"Kuks\"].count()\n",
        "print(summary_pct)\n",
        "#print(sq[\"Kuks\"].value_counts())\n",
        "#print(sq[\"Kuks\"].sum())"
      ],
      "metadata": {
        "colab": {
          "base_uri": "https://localhost:8080/"
        },
        "id": "V6pcqXZue5IY",
        "outputId": "50be01e8-820d-4776-a79d-73417c6f8a6b"
      },
      "execution_count": null,
      "outputs": [
        {
          "output_type": "stream",
          "name": "stdout",
          "text": [
            "     Running  Chasing  Climbing  Eating  Foraging  Kuks  Quaas  Moans  \\\n",
            "sum      700      257       625     716      1360    89     44      1   \n",
            "\n",
            "     Tail flags  Tail twitches  Curious  Indifferent  Flees  \n",
            "sum         148            414      170         1381    639  \n",
            "<class 'pandas.core.frame.DataFrame'>\n",
            "      Running   Chasing  Climbing    Eating  Foraging      Kuks     Quaas  \\\n",
            "sum  0.247875  0.091006  0.221317  0.253541  0.481586  0.031516  0.015581   \n",
            "\n",
            "        Moans  Tail flags  Tail twitches   Curious  Indifferent     Flees  \n",
            "sum  0.000354    0.052408       0.146601  0.060198     0.489023  0.226275  \n"
          ]
        }
      ]
    },
    {
      "cell_type": "markdown",
      "source": [
        "### Comfort Index\n",
        "\n",
        "Because there are not many ways to quantify the data, I would like to construct a friendliness index to measure how friendly each squirrel is perceived to be. \n",
        "\n",
        "[This article](https://www.wildlifeonline.me.uk/animals/article/squirrel-behaviour-dominance-aggression-territoriality) contains some helpful information on how to classify different behaviors. While each behavior could be a sign of many different things, I will simplify the behaviors to friendly/docile = 1, and aggressive/apprehensive = -1. So, simply put: the higher the score, the more comfortable the squirrel appears. Chasing is described as an agonistic behavior. \n",
        "\n",
        "[This article](https://northamericannature.com/what-sounds-do-squirrels-make/) offers good perspective into what each call means. For simplicity, I will assign Kuks and Quaas to the apprehensive category, signifying the presence of predators. Moans will be assigned to the docile and friendly category, assuming that the moans are defining female squirrels signifying a readiness to mate. \n",
        "Climbing, eating, foraging, curiosity, and indifference all signify some level of normal behavior from the squirrel being observed. These behaviors don't imply aggression towards the observer or other squirrels. \n",
        "\n",
        "\n",
        "\n",
        "\n"
      ],
      "metadata": {
        "id": "sjcxI4fHA8Ym"
      }
    },
    {
      "cell_type": "code",
      "source": [
        "comfort = {\n",
        "    \"Running\": -1,\n",
        "    \"Chasing\": -1,\n",
        "    \"Climbing\": 1,\n",
        "    \"Eating\": 1,\n",
        "    \"Foraging\": 1,\n",
        "    \"Kuks\": -1,\n",
        "    \"Quaas\": -1,\n",
        "    \"Moans\": 1,\n",
        "    \"Tail flags\": -1,\n",
        "    \"Tail twitches\": -1,\n",
        "    \"Curious\": 1,\n",
        "    \"Indifferent\": 1,\n",
        "    \"Flees\": -1\n",
        "}"
      ],
      "metadata": {
        "id": "BICt3jAVDYde"
      },
      "execution_count": null,
      "outputs": []
    },
    {
      "cell_type": "markdown",
      "source": [
        "Each comfort index value will be appended to the existing dataframe, and a total comfort score will be calculated. I will attempt to apply the dictionary to the dataframe. For the record, I will leave the attempt at using the dictionary in a comment. I need to use loops in order to finish the scoring process (I was looking to avoid this by using the dictionary)."
      ],
      "metadata": {
        "id": "BajSSQ6HHQhc"
      }
    },
    {
      "cell_type": "code",
      "source": [
        "#sq[\"runscore\"] = sq[\"Running\"].apply(lambda x: comfort.get(x))\n",
        "#print(sq[\"runscore\"])\n",
        "print(len(sq))"
      ],
      "metadata": {
        "colab": {
          "base_uri": "https://localhost:8080/"
        },
        "id": "a7mQqligDkpo",
        "outputId": "8dfad6ad-6706-4bd4-a7d7-f4953ddfd528"
      },
      "execution_count": null,
      "outputs": [
        {
          "output_type": "stream",
          "name": "stdout",
          "text": [
            "2824\n"
          ]
        }
      ]
    },
    {
      "cell_type": "markdown",
      "source": [
        "## Comfort Score Calculation\n",
        "\n",
        "In this section, I add new columns and add a column with calculations based on existing columns. I also group the data by two columns and sort it. "
      ],
      "metadata": {
        "id": "ZNmJLx3-JHDQ"
      }
    },
    {
      "cell_type": "code",
      "source": [
        "sq.reset_index(drop = True, inplace = True)\n",
        "sq[\"runscore\"] = 0\n",
        "for i in range(0,len(sq)):\n",
        "  if sq.at[i, \"Running\"] == True:\n",
        "    sq.at[i, \"runscore\"] += -1\n",
        "  else:\n",
        "    sq.at[i, \"runscore\"] += 1\n",
        "\n",
        "sq[\"chasescore\"] = 0\n",
        "for i in range(0,len(sq)):\n",
        "  if sq.at[i, \"Chasing\"] == True:\n",
        "    sq.at[i, \"chasescore\"] += -1\n",
        "  else:\n",
        "    sq.at[i, \"chasescore\"] += 1\n",
        "\n",
        "sq[\"climbscore\"] = 0\n",
        "for i in range(0,len(sq)):\n",
        "  if sq.at[i, \"Climbing\"] == True:\n",
        "    sq.at[i, \"climbscore\"] += 1\n",
        "  else:\n",
        "    sq.at[i, \"climbscore\"] += -1\n",
        "\n",
        "sq[\"eatscore\"] = 0\n",
        "for i in range(0,len(sq)):\n",
        "  if sq.at[i, \"Eating\"] == True:\n",
        "    sq.at[i, \"eatscore\"] += 1\n",
        "  else:\n",
        "    sq.at[i, \"eatscore\"] += -1\n",
        "\n",
        "sq[\"foragescore\"] = 0\n",
        "for i in range(0,len(sq)):\n",
        "  if sq.at[i, \"Foraging\"] == True:\n",
        "    sq.at[i, \"foragescore\"] += 1\n",
        "  else:\n",
        "    sq.at[i, \"foragescore\"] += -1\n",
        "\n",
        "sq[\"kukscore\"] = 0\n",
        "for i in range(0,len(sq)):\n",
        "  if sq.at[i, \"Kuks\"] == True:\n",
        "    sq.at[i, \"kukscore\"] += -1\n",
        "  else:\n",
        "    sq.at[i, \"kukscore\"] += 1\n",
        "\n",
        "sq[\"quaascore\"] = 0\n",
        "for i in range(0,len(sq)):\n",
        "  if sq.at[i, \"Quaas\"] == True:\n",
        "    sq.at[i, \"quaascore\"] += -1\n",
        "  else:\n",
        "    sq.at[i, \"quaascore\"] += 1\n",
        "\n",
        "sq[\"moanscore\"] = 0\n",
        "for i in range(0,len(sq)):\n",
        "  if sq.at[i, \"Moans\"] == True:\n",
        "    sq.at[i, \"moanscore\"] += 1\n",
        "  else:\n",
        "    sq.at[i, \"moanscore\"] += -1\n",
        "\n",
        "sq[\"flagscore\"] = 0\n",
        "for i in range(0,len(sq)):\n",
        "  if sq.at[i, \"Tail flags\"] == True:\n",
        "    sq.at[i, \"flagscore\"] += -1\n",
        "  else:\n",
        "    sq.at[i, \"flagscore\"] += 1\n",
        "\n",
        "sq[\"twitchscore\"] = 0\n",
        "for i in range(0,len(sq)):\n",
        "  if sq.at[i, \"Tail twitches\"] == True:\n",
        "    sq.at[i, \"twitchscore\"] += -1\n",
        "  else:\n",
        "    sq.at[i, \"twitchscore\"] += 1\n",
        "\n",
        "sq[\"curiousscore\"] = 0\n",
        "for i in range(0,len(sq)):\n",
        "  if sq.at[i, \"Curious\"] == True:\n",
        "    sq.at[i, \"curiousscore\"] += 1\n",
        "  else:\n",
        "    sq.at[i, \"curiousscore\"] += -1\n",
        "\n",
        "sq[\"indifferentscore\"] = 0\n",
        "for i in range(0,len(sq)):\n",
        "  if sq.at[i, \"Indifferent\"] == True:\n",
        "    sq.at[i, \"indifferentscore\"] += 1\n",
        "  else:\n",
        "    sq.at[i, \"indifferentscore\"] += -1\n",
        "\n",
        "sq[\"fleescore\"] = 0\n",
        "for i in range(0,len(sq)):\n",
        "  if sq.at[i, \"Flees\"] == True:\n",
        "    sq.at[i, \"fleescore\"] += -1\n",
        "  else:\n",
        "    sq.at[i, \"fleescore\"] += 1\n",
        "\n",
        "for i in range(0,len(sq)):\n",
        "  sq.at[i, \"comfortscore\"] = sq.at[i, \"runscore\"] + sq.at[i, \"chasescore\"] + sq.at[i, \"climbscore\"] + sq.at[i, \"eatscore\"] + sq.at[i, \"foragescore\"] + sq.at[i, \"kukscore\"] + sq.at[i, \"quaascore\"] + sq.at[i, \"moanscore\"] + sq.at[i, \"flagscore\"] + sq.at[i, \"twitchscore\"] + sq.at[i, \"curiousscore\"] + sq.at[i, \"indifferentscore\"] + sq.at[i, \"fleescore\"]\n",
        "\n",
        "\n",
        "#print(sq[\"comfortscore\"])\n",
        "\n",
        "sq.sort_values(by = ['Primary Fur Color', 'comfortscore'], inplace = True, ascending = False)\n",
        "print(sq.head())\n"
      ],
      "metadata": {
        "colab": {
          "base_uri": "https://localhost:8080/"
        },
        "id": "vwTE0Wp3JH3S",
        "outputId": "7cef8e2a-b24b-4448-f357-5827fb3f97f8"
      },
      "execution_count": null,
      "outputs": [
        {
          "output_type": "stream",
          "name": "stdout",
          "text": [
            "0       3.0\n",
            "1       3.0\n",
            "2       5.0\n",
            "3      -3.0\n",
            "4       5.0\n",
            "       ... \n",
            "2819    1.0\n",
            "2820    3.0\n",
            "2821    5.0\n",
            "2822    7.0\n",
            "2823    7.0\n",
            "Name: comfortscore, Length: 2824, dtype: float64\n",
            "              X          Y              ID Hectare Shift       Date  \\\n",
            "2038 -73.969913  40.774447  12F-PM-1007-14     12F    pm 2018-10-07   \n",
            "732  -73.980854  40.767870   1B-AM-1012-17     01B    am 2018-10-12   \n",
            "774  -73.964515  40.777257  17I-AM-1014-04     17I    am 2018-10-14   \n",
            "1010 -73.958411  40.790278  32F-PM-1008-02     32F    pm 2018-10-08   \n",
            "1075 -73.969407  40.780566  18C-PM-1018-06     18C    pm 2018-10-18   \n",
            "\n",
            "      Hectare Squirrel Number       Age Primary Fur Color  \\\n",
            "2038                       14     Adult              Gray   \n",
            "732                        17     Adult              Gray   \n",
            "774                         4     Adult              Gray   \n",
            "1010                        2     Adult              Gray   \n",
            "1075                        6  Juvenile              Gray   \n",
            "\n",
            "     Combination of Primary and Highlight Color  ... foragescore  kukscore  \\\n",
            "2038                       Gray+Cinnamon, White  ...           1         1   \n",
            "732                        Gray+Cinnamon, White  ...           1         1   \n",
            "774                        Gray+Cinnamon, White  ...           1         1   \n",
            "1010                                 Gray+White  ...           1         1   \n",
            "1075                       Gray+Cinnamon, White  ...           1         1   \n",
            "\n",
            "      quaascore  moanscore  flagscore  twitchscore  curiousscore  \\\n",
            "2038          1         -1          1            1             1   \n",
            "732           1         -1          1            1            -1   \n",
            "774           1         -1          1            1             1   \n",
            "1010          1         -1          1            1            -1   \n",
            "1075          1         -1          1            1            -1   \n",
            "\n",
            "      indifferentscore  fleescore  comfortscore  \n",
            "2038                 1          1          11.0  \n",
            "732                  1          1           9.0  \n",
            "774                  1          1           9.0  \n",
            "1010                 1          1           9.0  \n",
            "1075                 1          1           9.0  \n",
            "\n",
            "[5 rows x 41 columns]\n"
          ]
        }
      ]
    },
    {
      "cell_type": "markdown",
      "source": [
        "### Summary Statistics, grouping, and filtering\n",
        "\n",
        "\n"
      ],
      "metadata": {
        "id": "0JU2dRdhgzAF"
      }
    },
    {
      "cell_type": "code",
      "source": [
        "print('Mean: ')\n",
        "print(sq[[\"Lat\", \"Lon\", \"comfortscore\"]].mean())\n",
        "print()\n",
        "print('Median: ')\n",
        "print(sq[[\"Lat\", \"Lon\", \"comfortscore\"]].median())\n",
        "\n",
        "print(sq[['Lat', 'Lon', 'comfortscore']].describe())\n",
        "\n",
        "sq_filter = sq[sq[\"Primary Fur Color\"] == \"Gray\"]\n",
        "print(sq_filter.head())\n",
        "\n",
        "print()\n",
        "print(\"Mean Comfort Score by Fur Color\")\n",
        "print(sq[[\"Primary Fur Color\", \"comfortscore\"]].groupby(\"Primary Fur Color\").mean())\n",
        "\n",
        "print()\n",
        "print(\"Median Comfort Score by Fur Color\")\n",
        "print(sq[[\"Primary Fur Color\", \"comfortscore\"]].groupby(\"Primary Fur Color\").median())\n",
        "\n",
        "print()\n",
        "print(\"Maximum Comfort Score by Fur Color\")\n",
        "print(sq[[\"Primary Fur Color\", \"comfortscore\"]].groupby(\"Primary Fur Color\").max())\n",
        "\n",
        "print()\n",
        "print(\"Minimum Comfort Score by Fur Color\")\n",
        "print(sq[[\"Primary Fur Color\", \"comfortscore\"]].groupby(\"Primary Fur Color\").min())\n"
      ],
      "metadata": {
        "colab": {
          "base_uri": "https://localhost:8080/"
        },
        "id": "5BeSnofdGpui",
        "outputId": "2e373fd6-4bfe-440b-ee4b-6d78d90754f7"
      },
      "execution_count": 16,
      "outputs": [
        {
          "output_type": "stream",
          "name": "stdout",
          "text": [
            "Mean: \n",
            "Lat            -73.967282\n",
            "Lon             40.780687\n",
            "comfortscore     2.389518\n",
            "dtype: float64\n",
            "\n",
            "Median: \n",
            "Lat            -73.968717\n",
            "Lon             40.777969\n",
            "comfortscore     3.000000\n",
            "dtype: float64\n",
            "               Lat          Lon  comfortscore\n",
            "count  2824.000000  2824.000000   2824.000000\n",
            "mean    -73.967282    40.780687      2.389518\n",
            "std       0.007718     0.010277      2.918878\n",
            "min     -73.981159    40.764911     -7.000000\n",
            "25%     -73.973199    40.771505      1.000000\n",
            "50%     -73.968717    40.777969      3.000000\n",
            "75%     -73.960321    40.791155      5.000000\n",
            "max     -73.949842    40.800119     11.000000\n",
            "           X          Y              ID Hectare Shift       Date  \\\n",
            "0 -73.970268  40.776213  13E-AM-1017-05     13E    am 2018-10-17   \n",
            "1 -73.954120  40.793181  36H-AM-1010-02     36H    am 2018-10-10   \n",
            "2 -73.958269  40.791737  33F-AM-1008-02     33F    am 2018-10-08   \n",
            "3 -73.967429  40.782972  21C-PM-1006-01     21C    pm 2018-10-06   \n",
            "4 -73.972250  40.774288  11D-AM-1010-03     11D    am 2018-10-10   \n",
            "\n",
            "   Hectare Squirrel Number    Age Primary Fur Color  \\\n",
            "0                        5  Adult              Gray   \n",
            "1                        2  Adult              Gray   \n",
            "2                        2  Adult              Gray   \n",
            "3                        1  Adult              Gray   \n",
            "4                        3  Adult              Gray   \n",
            "\n",
            "  Combination of Primary and Highlight Color  ... foragescore  kukscore  \\\n",
            "0                              Gray+Cinnamon  ...           1         1   \n",
            "1                                      Gray+  ...           1         1   \n",
            "2                                      Gray+  ...           1         1   \n",
            "3                                      Gray+  ...          -1         1   \n",
            "4                              Gray+Cinnamon  ...          -1         1   \n",
            "\n",
            "   quaascore  moanscore  flagscore  twitchscore  curiousscore  \\\n",
            "0          1         -1          1            1            -1   \n",
            "1          1         -1          1            1            -1   \n",
            "2          1         -1          1            1            -1   \n",
            "3          1         -1         -1           -1            -1   \n",
            "4          1         -1          1            1            -1   \n",
            "\n",
            "   indifferentscore  fleescore  comfortscore  \n",
            "0                -1          1           3.0  \n",
            "1                -1          1           3.0  \n",
            "2                 1          1           5.0  \n",
            "3                -1          1          -3.0  \n",
            "4                 1          1           5.0  \n",
            "\n",
            "[5 rows x 41 columns]\n",
            "\n",
            "Mean Comfort Score by Fur Color\n",
            "                   comfortscore\n",
            "Primary Fur Color              \n",
            "Black                  1.940000\n",
            "Cinnamon               2.408000\n",
            "Gray                   2.405705\n",
            "\n",
            "Median Comfort Score by Fur Color\n",
            "                   comfortscore\n",
            "Primary Fur Color              \n",
            "Black                       3.0\n",
            "Cinnamon                    3.0\n",
            "Gray                        3.0\n",
            "\n",
            "Maximum Comfort Score by Fur Color\n",
            "                   comfortscore\n",
            "Primary Fur Color              \n",
            "Black                       7.0\n",
            "Cinnamon                    9.0\n",
            "Gray                       11.0\n",
            "\n",
            "Minimum Comfort Score by Fur Color\n",
            "                   comfortscore\n",
            "Primary Fur Color              \n",
            "Black                      -7.0\n",
            "Cinnamon                   -7.0\n",
            "Gray                       -7.0\n"
          ]
        }
      ]
    },
    {
      "cell_type": "markdown",
      "source": [
        "## Conclusion\n",
        "\n",
        "As a later exercise, I would like to try to plot comfort score overlayed on map of Central Park (lat/lon). From the data, I found that Cinnamon colored squirrels seem to be the most comfortable squirrels in Central Park, with the black squirrels being the most uncomfortable. Interestingly, the median score for each category turned out to be 3.0. I would like to dive deeper into this set and see if squirrels are more comfortable in the morning, afternoon, or at night. I would also like to determine which areas of the park squirrels seem to be the most comfortable. "
      ],
      "metadata": {
        "id": "frnkFjX0S_M2"
      }
    }
  ]
}